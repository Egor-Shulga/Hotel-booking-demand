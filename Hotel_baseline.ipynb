{
  "nbformat": 4,
  "nbformat_minor": 0,
  "metadata": {
    "colab": {
      "provenance": []
    },
    "kernelspec": {
      "name": "python3",
      "display_name": "Python 3"
    },
    "language_info": {
      "name": "python"
    }
  },
  "cells": [
    {
      "cell_type": "code",
      "execution_count": null,
      "metadata": {
        "id": "0yj3YDksvDyy"
      },
      "outputs": [],
      "source": [
        "import pandas as pd\n",
        "import seaborn as sns\n",
        "import matplotlib.pyplot as plt\n",
        "\n",
        "from sklearn.preprocessing import LabelEncoder\n",
        "from sklearn.linear_model import LogisticRegression\n",
        "from sklearn.metrics import accuracy_score, precision_score, recall_score\n",
        "from sklearn.preprocessing import MinMaxScaler"
      ]
    },
    {
      "cell_type": "code",
      "source": [
        "train = pd.read_csv('train_final.csv')\n",
        "test = pd.read_csv('test_final.csv')"
      ],
      "metadata": {
        "id": "VP0-aqRdy_20"
      },
      "execution_count": null,
      "outputs": []
    },
    {
      "cell_type": "markdown",
      "source": [
        "Анализ данных"
      ],
      "metadata": {
        "id": "skESUZvy_iYL"
      }
    },
    {
      "cell_type": "code",
      "source": [
        "train.head()"
      ],
      "metadata": {
        "id": "vYZyXsQszVge"
      },
      "execution_count": null,
      "outputs": []
    },
    {
      "cell_type": "code",
      "source": [
        "test.head()"
      ],
      "metadata": {
        "id": "x4BaSo_EzxbO"
      },
      "execution_count": null,
      "outputs": []
    },
    {
      "cell_type": "code",
      "source": [
        "train.info()"
      ],
      "metadata": {
        "id": "ZpVdvxIFzYNB"
      },
      "execution_count": null,
      "outputs": []
    },
    {
      "cell_type": "code",
      "source": [
        "test.info()"
      ],
      "metadata": {
        "id": "Kg_r32H1zZyJ"
      },
      "execution_count": null,
      "outputs": []
    },
    {
      "cell_type": "code",
      "source": [
        "print(train.shape, test.shape)"
      ],
      "metadata": {
        "id": "j14agvsC0jEh",
        "colab": {
          "base_uri": "https://localhost:8080/"
        },
        "outputId": "b16521a1-364c-444d-8f4c-eecdb1e672ad"
      },
      "execution_count": null,
      "outputs": [
        {
          "output_type": "stream",
          "name": "stdout",
          "text": [
            "(44638, 29) (23525, 28)\n"
          ]
        }
      ]
    },
    {
      "cell_type": "code",
      "source": [
        "train.isna().sum()"
      ],
      "metadata": {
        "id": "Ikbwvdxu0yLU"
      },
      "execution_count": null,
      "outputs": []
    },
    {
      "cell_type": "code",
      "source": [
        "test.isna().sum()"
      ],
      "metadata": {
        "id": "_POg2umD1izC"
      },
      "execution_count": null,
      "outputs": []
    },
    {
      "cell_type": "code",
      "source": [
        "train['is_canceled'].value_counts()"
      ],
      "metadata": {
        "id": "yXgicDMa1ueD"
      },
      "execution_count": null,
      "outputs": []
    },
    {
      "cell_type": "markdown",
      "source": [
        "1.   В данных есть разные типы данных, нужно устранить категориальные признаки\n",
        "2.   Отсутствуют пропуски\n",
        "3.   Нужно восстановить колонку is_canceled\n",
        "4.   Задача решается с помощью логистической регрессии\n",
        "5.   Данные несбалансированные\n",
        "\n",
        "\n",
        "\n",
        "\n"
      ],
      "metadata": {
        "id": "qpSKzNXa1wvj"
      }
    },
    {
      "cell_type": "markdown",
      "source": [
        "Предобработка данных"
      ],
      "metadata": {
        "id": "PPOHhjHg_m1F"
      }
    },
    {
      "cell_type": "code",
      "source": [
        "train = train.drop(columns=['reservation_status_date', 'country', 'arrival_date_year', 'reservation_status_date'])\n",
        "test = test.drop(columns=['reservation_status_date', 'country', 'arrival_date_year', 'reservation_status_date'])"
      ],
      "metadata": {
        "id": "VoCqcaIJ56AN"
      },
      "execution_count": null,
      "outputs": []
    },
    {
      "cell_type": "code",
      "source": [
        "categ = train.loc[:,train.dtypes == 'object']"
      ],
      "metadata": {
        "id": "bmJ9JhTl4jFv"
      },
      "execution_count": null,
      "outputs": []
    },
    {
      "cell_type": "code",
      "source": [
        "for i in categ:\n",
        "    label_encoder = LabelEncoder()\n",
        "    label_encoder.fit(train[i])\n",
        "    train[i] = label_encoder.transform(train[i])"
      ],
      "metadata": {
        "id": "uAloIHNt65c1"
      },
      "execution_count": null,
      "outputs": []
    },
    {
      "cell_type": "code",
      "source": [
        "for i in categ:\n",
        "    label_encoder = LabelEncoder()\n",
        "    label_encoder.fit(test[i])\n",
        "    test[i] = label_encoder.transform(test[i])"
      ],
      "metadata": {
        "id": "ZuOhYO5nwHWk"
      },
      "execution_count": null,
      "outputs": []
    },
    {
      "cell_type": "code",
      "source": [
        "test.loc[:,test.dtypes == 'object']"
      ],
      "metadata": {
        "id": "04nJDJYZ8fow"
      },
      "execution_count": null,
      "outputs": []
    },
    {
      "cell_type": "markdown",
      "source": [
        "Создание модели"
      ],
      "metadata": {
        "id": "eSva5e6NwkNs"
      }
    },
    {
      "cell_type": "code",
      "source": [
        "X = train.drop(columns = ['is_canceled'])\n",
        "y = train['is_canceled']"
      ],
      "metadata": {
        "id": "IGTdcxlTAU4q"
      },
      "execution_count": null,
      "outputs": []
    },
    {
      "cell_type": "code",
      "source": [
        "X_nm = pd.DataFrame(MinMaxScaler().fit_transform(X), columns = X.columns, index = X.index)"
      ],
      "metadata": {
        "id": "vMaRdPyEIhGs"
      },
      "execution_count": null,
      "outputs": []
    },
    {
      "cell_type": "code",
      "source": [
        "X_nm.head()"
      ],
      "metadata": {
        "colab": {
          "base_uri": "https://localhost:8080/",
          "height": 300
        },
        "id": "s0QvrRykIrAO",
        "outputId": "7f5a4d4b-38c4-47e0-fa9a-801132e2d31c"
      },
      "execution_count": null,
      "outputs": [
        {
          "output_type": "execute_result",
          "data": {
            "text/plain": [
              "   hotel  lead_time  arrival_date_month  arrival_date_week_number  \\\n",
              "0    1.0   0.004071            0.272727                  0.115385   \n",
              "1    0.0   0.067843            0.818182                  0.884615   \n",
              "2    0.0   0.018996            1.000000                  0.692308   \n",
              "3    0.0   0.024423            0.181818                  0.942308   \n",
              "4    0.0   0.356852            1.000000                  0.750000   \n",
              "\n",
              "   arrival_date_day_of_month  stays_in_weekend_nights  stays_in_week_nights  \\\n",
              "0                   0.366667                   0.0000                 0.050   \n",
              "1                   0.566667                   0.0625                 0.050   \n",
              "2                   0.200000                   0.0625                 0.125   \n",
              "3                   0.166667                   0.1250                 0.000   \n",
              "4                   0.933333                   0.1250                 0.100   \n",
              "\n",
              "     adults  children  babies  ...  previous_bookings_not_canceled  \\\n",
              "0  0.036364  0.000000     0.0  ...                             0.0   \n",
              "1  0.036364  0.000000     0.0  ...                             0.0   \n",
              "2  0.036364  0.666667     0.0  ...                             0.0   \n",
              "3  0.036364  0.000000     0.0  ...                             0.0   \n",
              "4  0.036364  0.000000     0.0  ...                             0.0   \n",
              "\n",
              "   reserved_room_type  assigned_room_type  booking_changes  deposit_type  \\\n",
              "0               0.500                 0.5              0.0           0.0   \n",
              "1               0.000                 0.0              0.0           0.0   \n",
              "2               0.625                 0.5              0.0           0.0   \n",
              "3               0.000                 0.0              0.0           0.0   \n",
              "4               0.000                 0.0              0.0           0.0   \n",
              "\n",
              "   days_in_waiting_list  customer_type       adr  required_car_parking_spaces  \\\n",
              "0                   0.0       0.666667  0.158824                        0.125   \n",
              "1                   0.0       0.666667  0.183529                        0.000   \n",
              "2                   0.0       0.000000  0.325490                        0.000   \n",
              "3                   0.0       0.666667  0.209804                        0.000   \n",
              "4                   0.0       0.666667  0.196667                        0.000   \n",
              "\n",
              "   total_of_special_requests  \n",
              "0                        0.0  \n",
              "1                        0.4  \n",
              "2                        0.6  \n",
              "3                        0.0  \n",
              "4                        0.0  \n",
              "\n",
              "[5 rows x 25 columns]"
            ],
            "text/html": [
              "\n",
              "  <div id=\"df-df71bd10-4216-4941-8b9c-e4f4ca63bde8\">\n",
              "    <div class=\"colab-df-container\">\n",
              "      <div>\n",
              "<style scoped>\n",
              "    .dataframe tbody tr th:only-of-type {\n",
              "        vertical-align: middle;\n",
              "    }\n",
              "\n",
              "    .dataframe tbody tr th {\n",
              "        vertical-align: top;\n",
              "    }\n",
              "\n",
              "    .dataframe thead th {\n",
              "        text-align: right;\n",
              "    }\n",
              "</style>\n",
              "<table border=\"1\" class=\"dataframe\">\n",
              "  <thead>\n",
              "    <tr style=\"text-align: right;\">\n",
              "      <th></th>\n",
              "      <th>hotel</th>\n",
              "      <th>lead_time</th>\n",
              "      <th>arrival_date_month</th>\n",
              "      <th>arrival_date_week_number</th>\n",
              "      <th>arrival_date_day_of_month</th>\n",
              "      <th>stays_in_weekend_nights</th>\n",
              "      <th>stays_in_week_nights</th>\n",
              "      <th>adults</th>\n",
              "      <th>children</th>\n",
              "      <th>babies</th>\n",
              "      <th>...</th>\n",
              "      <th>previous_bookings_not_canceled</th>\n",
              "      <th>reserved_room_type</th>\n",
              "      <th>assigned_room_type</th>\n",
              "      <th>booking_changes</th>\n",
              "      <th>deposit_type</th>\n",
              "      <th>days_in_waiting_list</th>\n",
              "      <th>customer_type</th>\n",
              "      <th>adr</th>\n",
              "      <th>required_car_parking_spaces</th>\n",
              "      <th>total_of_special_requests</th>\n",
              "    </tr>\n",
              "  </thead>\n",
              "  <tbody>\n",
              "    <tr>\n",
              "      <th>0</th>\n",
              "      <td>1.0</td>\n",
              "      <td>0.004071</td>\n",
              "      <td>0.272727</td>\n",
              "      <td>0.115385</td>\n",
              "      <td>0.366667</td>\n",
              "      <td>0.0000</td>\n",
              "      <td>0.050</td>\n",
              "      <td>0.036364</td>\n",
              "      <td>0.000000</td>\n",
              "      <td>0.0</td>\n",
              "      <td>...</td>\n",
              "      <td>0.0</td>\n",
              "      <td>0.500</td>\n",
              "      <td>0.5</td>\n",
              "      <td>0.0</td>\n",
              "      <td>0.0</td>\n",
              "      <td>0.0</td>\n",
              "      <td>0.666667</td>\n",
              "      <td>0.158824</td>\n",
              "      <td>0.125</td>\n",
              "      <td>0.0</td>\n",
              "    </tr>\n",
              "    <tr>\n",
              "      <th>1</th>\n",
              "      <td>0.0</td>\n",
              "      <td>0.067843</td>\n",
              "      <td>0.818182</td>\n",
              "      <td>0.884615</td>\n",
              "      <td>0.566667</td>\n",
              "      <td>0.0625</td>\n",
              "      <td>0.050</td>\n",
              "      <td>0.036364</td>\n",
              "      <td>0.000000</td>\n",
              "      <td>0.0</td>\n",
              "      <td>...</td>\n",
              "      <td>0.0</td>\n",
              "      <td>0.000</td>\n",
              "      <td>0.0</td>\n",
              "      <td>0.0</td>\n",
              "      <td>0.0</td>\n",
              "      <td>0.0</td>\n",
              "      <td>0.666667</td>\n",
              "      <td>0.183529</td>\n",
              "      <td>0.000</td>\n",
              "      <td>0.4</td>\n",
              "    </tr>\n",
              "    <tr>\n",
              "      <th>2</th>\n",
              "      <td>0.0</td>\n",
              "      <td>0.018996</td>\n",
              "      <td>1.000000</td>\n",
              "      <td>0.692308</td>\n",
              "      <td>0.200000</td>\n",
              "      <td>0.0625</td>\n",
              "      <td>0.125</td>\n",
              "      <td>0.036364</td>\n",
              "      <td>0.666667</td>\n",
              "      <td>0.0</td>\n",
              "      <td>...</td>\n",
              "      <td>0.0</td>\n",
              "      <td>0.625</td>\n",
              "      <td>0.5</td>\n",
              "      <td>0.0</td>\n",
              "      <td>0.0</td>\n",
              "      <td>0.0</td>\n",
              "      <td>0.000000</td>\n",
              "      <td>0.325490</td>\n",
              "      <td>0.000</td>\n",
              "      <td>0.6</td>\n",
              "    </tr>\n",
              "    <tr>\n",
              "      <th>3</th>\n",
              "      <td>0.0</td>\n",
              "      <td>0.024423</td>\n",
              "      <td>0.181818</td>\n",
              "      <td>0.942308</td>\n",
              "      <td>0.166667</td>\n",
              "      <td>0.1250</td>\n",
              "      <td>0.000</td>\n",
              "      <td>0.036364</td>\n",
              "      <td>0.000000</td>\n",
              "      <td>0.0</td>\n",
              "      <td>...</td>\n",
              "      <td>0.0</td>\n",
              "      <td>0.000</td>\n",
              "      <td>0.0</td>\n",
              "      <td>0.0</td>\n",
              "      <td>0.0</td>\n",
              "      <td>0.0</td>\n",
              "      <td>0.666667</td>\n",
              "      <td>0.209804</td>\n",
              "      <td>0.000</td>\n",
              "      <td>0.0</td>\n",
              "    </tr>\n",
              "    <tr>\n",
              "      <th>4</th>\n",
              "      <td>0.0</td>\n",
              "      <td>0.356852</td>\n",
              "      <td>1.000000</td>\n",
              "      <td>0.750000</td>\n",
              "      <td>0.933333</td>\n",
              "      <td>0.1250</td>\n",
              "      <td>0.100</td>\n",
              "      <td>0.036364</td>\n",
              "      <td>0.000000</td>\n",
              "      <td>0.0</td>\n",
              "      <td>...</td>\n",
              "      <td>0.0</td>\n",
              "      <td>0.000</td>\n",
              "      <td>0.0</td>\n",
              "      <td>0.0</td>\n",
              "      <td>0.0</td>\n",
              "      <td>0.0</td>\n",
              "      <td>0.666667</td>\n",
              "      <td>0.196667</td>\n",
              "      <td>0.000</td>\n",
              "      <td>0.0</td>\n",
              "    </tr>\n",
              "  </tbody>\n",
              "</table>\n",
              "<p>5 rows × 25 columns</p>\n",
              "</div>\n",
              "      <button class=\"colab-df-convert\" onclick=\"convertToInteractive('df-df71bd10-4216-4941-8b9c-e4f4ca63bde8')\"\n",
              "              title=\"Convert this dataframe to an interactive table.\"\n",
              "              style=\"display:none;\">\n",
              "        \n",
              "  <svg xmlns=\"http://www.w3.org/2000/svg\" height=\"24px\"viewBox=\"0 0 24 24\"\n",
              "       width=\"24px\">\n",
              "    <path d=\"M0 0h24v24H0V0z\" fill=\"none\"/>\n",
              "    <path d=\"M18.56 5.44l.94 2.06.94-2.06 2.06-.94-2.06-.94-.94-2.06-.94 2.06-2.06.94zm-11 1L8.5 8.5l.94-2.06 2.06-.94-2.06-.94L8.5 2.5l-.94 2.06-2.06.94zm10 10l.94 2.06.94-2.06 2.06-.94-2.06-.94-.94-2.06-.94 2.06-2.06.94z\"/><path d=\"M17.41 7.96l-1.37-1.37c-.4-.4-.92-.59-1.43-.59-.52 0-1.04.2-1.43.59L10.3 9.45l-7.72 7.72c-.78.78-.78 2.05 0 2.83L4 21.41c.39.39.9.59 1.41.59.51 0 1.02-.2 1.41-.59l7.78-7.78 2.81-2.81c.8-.78.8-2.07 0-2.86zM5.41 20L4 18.59l7.72-7.72 1.47 1.35L5.41 20z\"/>\n",
              "  </svg>\n",
              "      </button>\n",
              "      \n",
              "  <style>\n",
              "    .colab-df-container {\n",
              "      display:flex;\n",
              "      flex-wrap:wrap;\n",
              "      gap: 12px;\n",
              "    }\n",
              "\n",
              "    .colab-df-convert {\n",
              "      background-color: #E8F0FE;\n",
              "      border: none;\n",
              "      border-radius: 50%;\n",
              "      cursor: pointer;\n",
              "      display: none;\n",
              "      fill: #1967D2;\n",
              "      height: 32px;\n",
              "      padding: 0 0 0 0;\n",
              "      width: 32px;\n",
              "    }\n",
              "\n",
              "    .colab-df-convert:hover {\n",
              "      background-color: #E2EBFA;\n",
              "      box-shadow: 0px 1px 2px rgba(60, 64, 67, 0.3), 0px 1px 3px 1px rgba(60, 64, 67, 0.15);\n",
              "      fill: #174EA6;\n",
              "    }\n",
              "\n",
              "    [theme=dark] .colab-df-convert {\n",
              "      background-color: #3B4455;\n",
              "      fill: #D2E3FC;\n",
              "    }\n",
              "\n",
              "    [theme=dark] .colab-df-convert:hover {\n",
              "      background-color: #434B5C;\n",
              "      box-shadow: 0px 1px 3px 1px rgba(0, 0, 0, 0.15);\n",
              "      filter: drop-shadow(0px 1px 2px rgba(0, 0, 0, 0.3));\n",
              "      fill: #FFFFFF;\n",
              "    }\n",
              "  </style>\n",
              "\n",
              "      <script>\n",
              "        const buttonEl =\n",
              "          document.querySelector('#df-df71bd10-4216-4941-8b9c-e4f4ca63bde8 button.colab-df-convert');\n",
              "        buttonEl.style.display =\n",
              "          google.colab.kernel.accessAllowed ? 'block' : 'none';\n",
              "\n",
              "        async function convertToInteractive(key) {\n",
              "          const element = document.querySelector('#df-df71bd10-4216-4941-8b9c-e4f4ca63bde8');\n",
              "          const dataTable =\n",
              "            await google.colab.kernel.invokeFunction('convertToInteractive',\n",
              "                                                     [key], {});\n",
              "          if (!dataTable) return;\n",
              "\n",
              "          const docLinkHtml = 'Like what you see? Visit the ' +\n",
              "            '<a target=\"_blank\" href=https://colab.research.google.com/notebooks/data_table.ipynb>data table notebook</a>'\n",
              "            + ' to learn more about interactive tables.';\n",
              "          element.innerHTML = '';\n",
              "          dataTable['output_type'] = 'display_data';\n",
              "          await google.colab.output.renderOutput(dataTable, element);\n",
              "          const docLink = document.createElement('div');\n",
              "          docLink.innerHTML = docLinkHtml;\n",
              "          element.appendChild(docLink);\n",
              "        }\n",
              "      </script>\n",
              "    </div>\n",
              "  </div>\n",
              "  "
            ]
          },
          "metadata": {},
          "execution_count": 74
        }
      ]
    },
    {
      "cell_type": "code",
      "source": [
        "model = LogisticRegression()\n",
        "model.fit(X_nm, y)\n",
        "pred = model.predict(X)"
      ],
      "metadata": {
        "colab": {
          "base_uri": "https://localhost:8080/"
        },
        "id": "JYm-fgDPAprn",
        "outputId": "dd495531-a713-4b18-f369-d1628724307a"
      },
      "execution_count": null,
      "outputs": [
        {
          "output_type": "stream",
          "name": "stderr",
          "text": [
            "/usr/local/lib/python3.8/dist-packages/sklearn/linear_model/_logistic.py:458: ConvergenceWarning: lbfgs failed to converge (status=1):\n",
            "STOP: TOTAL NO. of ITERATIONS REACHED LIMIT.\n",
            "\n",
            "Increase the number of iterations (max_iter) or scale the data as shown in:\n",
            "    https://scikit-learn.org/stable/modules/preprocessing.html\n",
            "Please also refer to the documentation for alternative solver options:\n",
            "    https://scikit-learn.org/stable/modules/linear_model.html#logistic-regression\n",
            "  n_iter_i = _check_optimize_result(\n"
          ]
        }
      ]
    },
    {
      "cell_type": "code",
      "source": [
        "print(accuracy_score(pred, y))\n",
        "print(precision_score(pred, y))\n",
        "print(recall_score(pred, y))"
      ],
      "metadata": {
        "colab": {
          "base_uri": "https://localhost:8080/"
        },
        "id": "WQAxJD2qD4Y9",
        "outputId": "38016515-63ca-44eb-e607-430ac10cfbfb"
      },
      "execution_count": null,
      "outputs": [
        {
          "output_type": "stream",
          "name": "stdout",
          "text": [
            "0.3036650387562167\n",
            "0.9993224932249323\n",
            "0.29933031184468645\n"
          ]
        }
      ]
    },
    {
      "cell_type": "code",
      "source": [
        "plot_confusion_matrix(model, x, y)\n",
        "plt.show()"
      ],
      "metadata": {
        "id": "eX-eu6rAD4bf"
      },
      "execution_count": null,
      "outputs": []
    },
    {
      "cell_type": "code",
      "source": [
        "test_pred = model.predict(test)\n",
        "test_pred = pd.DataFrame(test_pred, columns = ['is_canceled'])\n",
        "test_pred = test_pred.reset_index()\n",
        "test_pred.to_csv('solution.csv', index = False)"
      ],
      "metadata": {
        "id": "6nzmh297D4eK"
      },
      "execution_count": null,
      "outputs": []
    },
    {
      "cell_type": "markdown",
      "source": [
        "Какие шаги можно сделать, чтобы улучшить результат до 0,6+\n",
        "\n",
        "1. решить, какие данные удалить, какие оставить\n",
        "2. кодировать все данные одним из двух кодировшиков\n",
        "3. масштабировать данные\n",
        "4. сбалансировать данные\n"
      ],
      "metadata": {
        "id": "Z2nRjTUEKScn"
      }
    }
  ]
}